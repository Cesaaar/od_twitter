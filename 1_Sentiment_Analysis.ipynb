{
 "cells": [
  {
   "cell_type": "markdown",
   "metadata": {},
   "source": [
    "VADER Sentiment Analysis\n",
    "1. http://www.nltk.org/howto/sentiment.html\n",
    "2. https://github.com/cjhutto/vaderSentiment\n",
    "\n",
    "VADER Sentiment Analysis. VADER (Valence Aware Dictionary and sEntiment Reasoner) is a lexicon and rule-based sentiment analysis tool that is specifically attuned to sentiments expressed in social media, and works well on texts from other domains.\n",
    "\n",
    "Hutto, C.J. & Gilbert, E.E. (2014). VADER: A Parsimonious Rule-based Model for Sentiment Analysis of Social Media Text. Eighth International Conference on Weblogs and Social Media (ICWSM-14). Ann Arbor, MI, June 2014."
   ]
  },
  {
   "cell_type": "code",
   "execution_count": 35,
   "metadata": {
    "collapsed": false
   },
   "outputs": [
    {
     "name": "stdout",
     "output_type": "stream",
     "text": [
      "[nltk_data] Downloading package vader_lexicon to\n",
      "[nltk_data]     /Users/cesar/nltk_data...\n",
      "[nltk_data]   Package vader_lexicon is already up-to-date!\n"
     ]
    },
    {
     "data": {
      "text/plain": [
       "True"
      ]
     },
     "execution_count": 35,
     "metadata": {},
     "output_type": "execute_result"
    }
   ],
   "source": [
    "import pandas as pd\n",
    "from nltk.sentiment import SentimentAnalyzer\n",
    "from nltk.sentiment.util import *\n",
    "from nltk.classify import NaiveBayesClassifier\n",
    "from nltk.corpus import subjectivity\n",
    "from nltk.sentiment.vader import SentimentIntensityAnalyzer\n",
    "\n",
    "nltk.download('vader_lexicon')"
   ]
  },
  {
   "cell_type": "markdown",
   "metadata": {},
   "source": [
    "Information of a tweet\n",
    "- id\n",
    "- created_at\n",
    "- text\n",
    "- user -> location"
   ]
  },
  {
   "cell_type": "code",
   "execution_count": 24,
   "metadata": {
    "collapsed": false
   },
   "outputs": [
    {
     "data": {
      "text/plain": [
       "{'created_at': 'Sun Apr 23 20:51:48 +0000 2017',\n",
       " 'id': 856249266834223104,\n",
       " 'location': 'New Jersey',\n",
       " 'text': 'RT @simonjhix: #Macron v #LePen =&gt; end of the economic left-right of C20th, &amp; a return to the left-right of C19th, of liberalism v conserva…'}"
      ]
     },
     "execution_count": 24,
     "metadata": {},
     "output_type": "execute_result"
    }
   ],
   "source": [
    "# Analyze tweet\n",
    "hashtag = 'Macron'\n",
    "\n",
    "tweets = []\n",
    "with open(hashtag+'.json', 'r') as f:\n",
    "    for line in f:\n",
    "        tweet = {}\n",
    "        dict_tweet = json.loads(line)\n",
    "        tweet['id'] = dict_tweet['id']\n",
    "        tweet['created_at'] = dict_tweet['created_at']\n",
    "        tweet['text'] = dict_tweet['text']\n",
    "        tweet['location'] = dict_tweet['user']['location']\n",
    "        tweets.append(tweet)\n",
    "tweets[0]"
   ]
  },
  {
   "cell_type": "code",
   "execution_count": 41,
   "metadata": {
    "collapsed": false
   },
   "outputs": [],
   "source": [
    "df_tweets = pd.DataFrame.from_dict(tweets)"
   ]
  },
  {
   "cell_type": "code",
   "execution_count": 60,
   "metadata": {
    "collapsed": false
   },
   "outputs": [
    {
     "data": {
      "text/html": [
       "<div>\n",
       "<table border=\"1\" class=\"dataframe\">\n",
       "  <thead>\n",
       "    <tr style=\"text-align: right;\">\n",
       "      <th></th>\n",
       "      <th>created_at</th>\n",
       "      <th>id</th>\n",
       "      <th>location</th>\n",
       "      <th>text</th>\n",
       "      <th>sentiment</th>\n",
       "    </tr>\n",
       "  </thead>\n",
       "  <tbody>\n",
       "    <tr>\n",
       "      <th>0</th>\n",
       "      <td>Sun Apr 23 20:51:48 +0000 2017</td>\n",
       "      <td>856249266834223104</td>\n",
       "      <td>New Jersey</td>\n",
       "      <td>RT @simonjhix: #Macron v #LePen =&amp;gt; end of t...</td>\n",
       "      <td>0.0</td>\n",
       "    </tr>\n",
       "    <tr>\n",
       "      <th>1</th>\n",
       "      <td>Sun Apr 23 20:51:48 +0000 2017</td>\n",
       "      <td>856249267169755138</td>\n",
       "      <td>None</td>\n",
       "      <td>RT @nicolasbayfn: \"Le clivage a le mérite d'êt...</td>\n",
       "      <td>0.0</td>\n",
       "    </tr>\n",
       "  </tbody>\n",
       "</table>\n",
       "</div>"
      ],
      "text/plain": [
       "                       created_at                  id    location  \\\n",
       "0  Sun Apr 23 20:51:48 +0000 2017  856249266834223104  New Jersey   \n",
       "1  Sun Apr 23 20:51:48 +0000 2017  856249267169755138        None   \n",
       "\n",
       "                                                text  sentiment  \n",
       "0  RT @simonjhix: #Macron v #LePen =&gt; end of t...        0.0  \n",
       "1  RT @nicolasbayfn: \"Le clivage a le mérite d'êt...        0.0  "
      ]
     },
     "execution_count": 60,
     "metadata": {},
     "output_type": "execute_result"
    }
   ],
   "source": [
    "df_tweets.head(2)"
   ]
  },
  {
   "cell_type": "code",
   "execution_count": 36,
   "metadata": {
    "collapsed": false
   },
   "outputs": [],
   "source": [
    "sid = SentimentIntensityAnalyzer()"
   ]
  },
  {
   "cell_type": "markdown",
   "metadata": {},
   "source": [
    "Compound Variable\n",
    "- positive sentiment: compound score >= 0.5\n",
    "- neutral sentiment: (compound score > -0.5) and (compound score < 0.5)\n",
    "- negative sentiment: compound score <= -0.5"
   ]
  },
  {
   "cell_type": "code",
   "execution_count": 55,
   "metadata": {
    "collapsed": true
   },
   "outputs": [],
   "source": [
    "def sentiment(x):\n",
    "    sentence = x['text']\n",
    "    sentiment = 0\n",
    "    ss = sid.polarity_scores(sentence)\n",
    "    for k in sorted(ss):\n",
    "        if(k=='compound'):\n",
    "            sentiment = ss[k]\n",
    "    return sentiment"
   ]
  },
  {
   "cell_type": "code",
   "execution_count": 56,
   "metadata": {
    "collapsed": true
   },
   "outputs": [],
   "source": [
    "df_tweets['sentiment'] = df_tweets.apply(lambda x: sentiment(x), axis=1)"
   ]
  },
  {
   "cell_type": "code",
   "execution_count": 61,
   "metadata": {
    "collapsed": false
   },
   "outputs": [
    {
     "data": {
      "text/html": [
       "<div>\n",
       "<table border=\"1\" class=\"dataframe\">\n",
       "  <thead>\n",
       "    <tr style=\"text-align: right;\">\n",
       "      <th></th>\n",
       "      <th>created_at</th>\n",
       "      <th>id</th>\n",
       "      <th>location</th>\n",
       "      <th>text</th>\n",
       "      <th>sentiment</th>\n",
       "    </tr>\n",
       "  </thead>\n",
       "  <tbody>\n",
       "    <tr>\n",
       "      <th>0</th>\n",
       "      <td>Sun Apr 23 20:51:48 +0000 2017</td>\n",
       "      <td>856249266834223104</td>\n",
       "      <td>New Jersey</td>\n",
       "      <td>RT @simonjhix: #Macron v #LePen =&amp;gt; end of t...</td>\n",
       "      <td>0.0</td>\n",
       "    </tr>\n",
       "    <tr>\n",
       "      <th>1</th>\n",
       "      <td>Sun Apr 23 20:51:48 +0000 2017</td>\n",
       "      <td>856249267169755138</td>\n",
       "      <td>None</td>\n",
       "      <td>RT @nicolasbayfn: \"Le clivage a le mérite d'êt...</td>\n",
       "      <td>0.0</td>\n",
       "    </tr>\n",
       "  </tbody>\n",
       "</table>\n",
       "</div>"
      ],
      "text/plain": [
       "                       created_at                  id    location  \\\n",
       "0  Sun Apr 23 20:51:48 +0000 2017  856249266834223104  New Jersey   \n",
       "1  Sun Apr 23 20:51:48 +0000 2017  856249267169755138        None   \n",
       "\n",
       "                                                text  sentiment  \n",
       "0  RT @simonjhix: #Macron v #LePen =&gt; end of t...        0.0  \n",
       "1  RT @nicolasbayfn: \"Le clivage a le mérite d'êt...        0.0  "
      ]
     },
     "execution_count": 61,
     "metadata": {},
     "output_type": "execute_result"
    }
   ],
   "source": [
    "df_tweets.head(2)"
   ]
  },
  {
   "cell_type": "code",
   "execution_count": 68,
   "metadata": {
    "collapsed": false
   },
   "outputs": [
    {
     "data": {
      "text/plain": [
       "created_at    847\n",
       "id            847\n",
       "location      538\n",
       "text          847\n",
       "sentiment     847\n",
       "dtype: int64"
      ]
     },
     "execution_count": 68,
     "metadata": {},
     "output_type": "execute_result"
    }
   ],
   "source": [
    "df_tweets.count()"
   ]
  },
  {
   "cell_type": "code",
   "execution_count": 64,
   "metadata": {
    "collapsed": false
   },
   "outputs": [
    {
     "data": {
      "text/plain": [
       "created_at    19\n",
       "id            19\n",
       "location      15\n",
       "text          19\n",
       "sentiment     19\n",
       "dtype: int64"
      ]
     },
     "execution_count": 64,
     "metadata": {},
     "output_type": "execute_result"
    }
   ],
   "source": [
    "df_tweets_pos = df_tweets[(df_tweets.sentiment>=0.5)]\n",
    "df_tweets_pos.count()"
   ]
  },
  {
   "cell_type": "code",
   "execution_count": 67,
   "metadata": {
    "collapsed": false
   },
   "outputs": [
    {
     "data": {
      "text/plain": [
       "created_at    13\n",
       "id            13\n",
       "location       5\n",
       "text          13\n",
       "sentiment     13\n",
       "dtype: int64"
      ]
     },
     "execution_count": 67,
     "metadata": {},
     "output_type": "execute_result"
    }
   ],
   "source": [
    "df_tweets_neg = df_tweets[(df_tweets.sentiment<=-0.5)]\n",
    "df_tweets_neg.count()"
   ]
  }
 ],
 "metadata": {
  "kernelspec": {
   "display_name": "Python 3",
   "language": "python",
   "name": "python3"
  },
  "language_info": {
   "codemirror_mode": {
    "name": "ipython",
    "version": 3
   },
   "file_extension": ".py",
   "mimetype": "text/x-python",
   "name": "python",
   "nbconvert_exporter": "python",
   "pygments_lexer": "ipython3",
   "version": "3.6.0"
  }
 },
 "nbformat": 4,
 "nbformat_minor": 2
}
