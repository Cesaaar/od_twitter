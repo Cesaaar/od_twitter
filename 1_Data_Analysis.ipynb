{
 "cells": [
  {
   "cell_type": "code",
   "execution_count": 6,
   "metadata": {
    "collapsed": false
   },
   "outputs": [
    {
     "name": "stdout",
     "output_type": "stream",
     "text": [
      "[nltk_data] Downloading package punkt to /Users/cesar/nltk_data...\n",
      "[nltk_data]   Package punkt is already up-to-date!\n"
     ]
    },
    {
     "data": {
      "text/plain": [
       "True"
      ]
     },
     "execution_count": 6,
     "metadata": {},
     "output_type": "execute_result"
    }
   ],
   "source": [
    "# https://marcobonzanini.com/2015/03/09/mining-twitter-data-with-python-part-2/\n",
    "\n",
    "import json\n",
    "import nltk\n",
    "import re\n",
    "from nltk.tokenize import word_tokenize\n",
    "nltk.download('punkt')"
   ]
  },
  {
   "cell_type": "code",
   "execution_count": 3,
   "metadata": {
    "collapsed": false
   },
   "outputs": [
    {
     "name": "stdout",
     "output_type": "stream",
     "text": [
      "{\n",
      "    \"created_at\": \"Sun Mar 19 17:26:30 +0000 2017\",\n",
      "    \"id\": 843514025287794689,\n",
      "    \"id_str\": \"843514025287794689\",\n",
      "    \"text\": \"#Career #opportunity for #Python Developer (17-00822) - NY - New York https://t.co/IAzcLi3kbm #ApTask. More here: https://t.co/d4T7jqfBNy\",\n",
      "    \"source\": \"<a href=\\\"https://ifttt.com\\\" rel=\\\"nofollow\\\">IFTTT</a>\",\n",
      "    \"truncated\": false,\n",
      "    \"in_reply_to_status_id\": null,\n",
      "    \"in_reply_to_status_id_str\": null,\n",
      "    \"in_reply_to_user_id\": null,\n",
      "    \"in_reply_to_user_id_str\": null,\n",
      "    \"in_reply_to_screen_name\": null,\n",
      "    \"user\": {\n",
      "        \"id\": 2610199184,\n",
      "        \"id_str\": \"2610199184\",\n",
      "        \"name\": \"Jovita Fonseca\",\n",
      "        \"screen_name\": \"JovitaXaxa\",\n",
      "        \"location\": \"New Jersey\",\n",
      "        \"url\": null,\n",
      "        \"description\": null,\n",
      "        \"protected\": false,\n",
      "        \"verified\": false,\n",
      "        \"followers_count\": 595,\n",
      "        \"friends_count\": 367,\n",
      "        \"listed_count\": 930,\n",
      "        \"favourites_count\": 12,\n",
      "        \"statuses_count\": 1370617,\n",
      "        \"created_at\": \"Mon Jul 07 18:00:19 +0000 2014\",\n",
      "        \"utc_offset\": -25200,\n",
      "        \"time_zone\": \"Pacific Time (US & Canada)\",\n",
      "        \"geo_enabled\": false,\n",
      "        \"lang\": \"en-gb\",\n",
      "        \"contributors_enabled\": false,\n",
      "        \"is_translator\": false,\n",
      "        \"profile_background_color\": \"BADFCD\",\n",
      "        \"profile_background_image_url\": \"http://abs.twimg.com/images/themes/theme12/bg.gif\",\n",
      "        \"profile_background_image_url_https\": \"https://abs.twimg.com/images/themes/theme12/bg.gif\",\n",
      "        \"profile_background_tile\": false,\n",
      "        \"profile_link_color\": \"FF0000\",\n",
      "        \"profile_sidebar_border_color\": \"F2E195\",\n",
      "        \"profile_sidebar_fill_color\": \"FFF7CC\",\n",
      "        \"profile_text_color\": \"0C3E53\",\n",
      "        \"profile_use_background_image\": true,\n",
      "        \"profile_image_url\": \"http://pbs.twimg.com/profile_images/500307172425605120/M6t2fxLp_normal.jpeg\",\n",
      "        \"profile_image_url_https\": \"https://pbs.twimg.com/profile_images/500307172425605120/M6t2fxLp_normal.jpeg\",\n",
      "        \"profile_banner_url\": \"https://pbs.twimg.com/profile_banners/2610199184/1408117882\",\n",
      "        \"default_profile\": false,\n",
      "        \"default_profile_image\": false,\n",
      "        \"following\": null,\n",
      "        \"follow_request_sent\": null,\n",
      "        \"notifications\": null\n",
      "    },\n",
      "    \"geo\": null,\n",
      "    \"coordinates\": null,\n",
      "    \"place\": null,\n",
      "    \"contributors\": null,\n",
      "    \"is_quote_status\": false,\n",
      "    \"retweet_count\": 0,\n",
      "    \"favorite_count\": 0,\n",
      "    \"entities\": {\n",
      "        \"hashtags\": [\n",
      "            {\n",
      "                \"text\": \"Career\",\n",
      "                \"indices\": [\n",
      "                    0,\n",
      "                    7\n",
      "                ]\n",
      "            },\n",
      "            {\n",
      "                \"text\": \"opportunity\",\n",
      "                \"indices\": [\n",
      "                    8,\n",
      "                    20\n",
      "                ]\n",
      "            },\n",
      "            {\n",
      "                \"text\": \"Python\",\n",
      "                \"indices\": [\n",
      "                    25,\n",
      "                    32\n",
      "                ]\n",
      "            },\n",
      "            {\n",
      "                \"text\": \"ApTask\",\n",
      "                \"indices\": [\n",
      "                    94,\n",
      "                    101\n",
      "                ]\n",
      "            }\n",
      "        ],\n",
      "        \"urls\": [\n",
      "            {\n",
      "                \"url\": \"https://t.co/IAzcLi3kbm\",\n",
      "                \"expanded_url\": \"http://ift.tt/2mhBGOg\",\n",
      "                \"display_url\": \"ift.tt/2mhBGOg\",\n",
      "                \"indices\": [\n",
      "                    70,\n",
      "                    93\n",
      "                ]\n",
      "            },\n",
      "            {\n",
      "                \"url\": \"https://t.co/d4T7jqfBNy\",\n",
      "                \"expanded_url\": \"http://ift.tt/1xAY53N\",\n",
      "                \"display_url\": \"ift.tt/1xAY53N\",\n",
      "                \"indices\": [\n",
      "                    114,\n",
      "                    137\n",
      "                ]\n",
      "            }\n",
      "        ],\n",
      "        \"user_mentions\": [],\n",
      "        \"symbols\": []\n",
      "    },\n",
      "    \"favorited\": false,\n",
      "    \"retweeted\": false,\n",
      "    \"possibly_sensitive\": false,\n",
      "    \"filter_level\": \"low\",\n",
      "    \"lang\": \"en\",\n",
      "    \"timestamp_ms\": \"1489944390018\"\n",
      "}\n"
     ]
    }
   ],
   "source": [
    "with open('python.json', 'r') as f:\n",
    "    line = f.readline() # read only the first tweet/line\n",
    "    tweet = json.loads(line) # load it as Python dict\n",
    "    print(json.dumps(tweet, indent=4)) # pretty-print"
   ]
  },
  {
   "cell_type": "code",
   "execution_count": 4,
   "metadata": {
    "collapsed": false
   },
   "outputs": [
    {
     "name": "stdout",
     "output_type": "stream",
     "text": [
      "['RT', '@', 'marcobonzanini', ':', 'just', 'an', 'example', '!', ':', 'D', 'http', ':', '//example.com', '#', 'NLP']\n"
     ]
    }
   ],
   "source": [
    "tweet = 'RT @marcobonzanini: just an example! :D http://example.com #NLP'\n",
    "print(word_tokenize(tweet))\n",
    "# ['RT', '@', 'marcobonzanini', ':', 'just', 'an', 'example', '!', ':', 'D', 'http', ':', '//example.com', '#', 'NLP']"
   ]
  },
  {
   "cell_type": "code",
   "execution_count": 7,
   "metadata": {
    "collapsed": false
   },
   "outputs": [],
   "source": [
    "emoticons_str = r\"\"\"\n",
    "    (?:\n",
    "        [:=;] # Eyes\n",
    "        [oO\\-]? # Nose (optional)\n",
    "        [D\\)\\]\\(\\]/\\\\OpP] # Mouth\n",
    "    )\"\"\"\n",
    " \n",
    "regex_str = [\n",
    "    emoticons_str,\n",
    "    r'<[^>]+>', # HTML tags\n",
    "    r'(?:@[\\w_]+)', # @-mentions\n",
    "    r\"(?:\\#+[\\w_]+[\\w\\'_\\-]*[\\w_]+)\", # hash-tags\n",
    "    r'http[s]?://(?:[a-z]|[0-9]|[$-_@.&amp;+]|[!*\\(\\),]|(?:%[0-9a-f][0-9a-f]))+', # URLs\n",
    " \n",
    "    r'(?:(?:\\d+,?)+(?:\\.?\\d+)?)', # numbers\n",
    "    r\"(?:[a-z][a-z'\\-_]+[a-z])\", # words with - and '\n",
    "    r'(?:[\\w_]+)', # other words\n",
    "    r'(?:\\S)' # anything else\n",
    "]\n",
    "    \n",
    "tokens_re = re.compile(r'('+'|'.join(regex_str)+')', re.VERBOSE | re.IGNORECASE)\n",
    "emoticon_re = re.compile(r'^'+emoticons_str+'$', re.VERBOSE | re.IGNORECASE)"
   ]
  },
  {
   "cell_type": "code",
   "execution_count": 8,
   "metadata": {
    "collapsed": true
   },
   "outputs": [],
   "source": [
    "def tokenize(s):\n",
    "    return tokens_re.findall(s)\n",
    " \n",
    "def preprocess(s, lowercase=False):\n",
    "    tokens = tokenize(s)\n",
    "    if lowercase:\n",
    "        tokens = [token if emoticon_re.search(token) else token.lower() for token in tokens]\n",
    "    return tokens"
   ]
  },
  {
   "cell_type": "code",
   "execution_count": 9,
   "metadata": {
    "collapsed": false
   },
   "outputs": [
    {
     "name": "stdout",
     "output_type": "stream",
     "text": [
      "['RT', '@marcobonzanini', ':', 'just', 'an', 'example', '!', ':D', 'http://example.com', '#NLP']\n"
     ]
    }
   ],
   "source": [
    "tweet = 'RT @marcobonzanini: just an example! :D http://example.com #NLP'\n",
    "print(preprocess(tweet))\n",
    "# ['RT', '@marcobonzanini', ':', 'just', 'an', 'example', '!', ':D', 'http://example.com', '#NLP']"
   ]
  },
  {
   "cell_type": "code",
   "execution_count": 12,
   "metadata": {
    "collapsed": false
   },
   "outputs": [
    {
     "name": "stdout",
     "output_type": "stream",
     "text": [
      "['#Career', '#opportunity', 'for', '#Python', 'Developer', '(', '17', '-', '00822', ')', '-', 'NY', '-', 'New', 'York', 'https://t.co/IAzcLi3kbm', '#ApTask', '.', 'More', 'here', ':', 'https://t.co/d4T7jqfBNy']\n",
      "['RT', '@raamana_', ':', 'So', '@MathWorks', 'itself', 'put', 'together', 'a', '#matlab', 'vs', '#python', 'comparison', '.', 'Although', \"they'd\", 'be', 'biased', ',', 'it', 'is', 'comprehensive', ':', '…']\n"
     ]
    }
   ],
   "source": [
    "with open('python.json', 'r') as f:\n",
    "    for line in f:\n",
    "        tweet = json.loads(line)\n",
    "        tokens = preprocess(tweet['text'])\n",
    "        print(tokens)"
   ]
  }
 ],
 "metadata": {
  "kernelspec": {
   "display_name": "Python 3",
   "language": "python",
   "name": "python3"
  },
  "language_info": {
   "codemirror_mode": {
    "name": "ipython",
    "version": 3
   },
   "file_extension": ".py",
   "mimetype": "text/x-python",
   "name": "python",
   "nbconvert_exporter": "python",
   "pygments_lexer": "ipython3",
   "version": "3.6.0"
  }
 },
 "nbformat": 4,
 "nbformat_minor": 2
}
