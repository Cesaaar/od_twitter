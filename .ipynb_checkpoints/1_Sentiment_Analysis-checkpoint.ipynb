{
 "cells": [
  {
   "cell_type": "markdown",
   "metadata": {},
   "source": [
    "VADER Sentiment Analysis\n",
    "1. http://www.nltk.org/howto/sentiment.html\n",
    "2. https://github.com/cjhutto/vaderSentiment\n",
    "\n",
    "VADER Sentiment Analysis. VADER (Valence Aware Dictionary and sEntiment Reasoner) is a lexicon and rule-based sentiment analysis tool that is specifically attuned to sentiments expressed in social media, and works well on texts from other domains.\n",
    "\n",
    "Hutto, C.J. & Gilbert, E.E. (2014). VADER: A Parsimonious Rule-based Model for Sentiment Analysis of Social Media Text. Eighth International Conference on Weblogs and Social Media (ICWSM-14). Ann Arbor, MI, June 2014."
   ]
  },
  {
   "cell_type": "code",
   "execution_count": 1,
   "metadata": {
    "collapsed": false
   },
   "outputs": [
    {
     "name": "stderr",
     "output_type": "stream",
     "text": [
      "/Users/cesar/anaconda/lib/python3.6/site-packages/nltk/twitter/__init__.py:20: UserWarning: The twython library has not been installed. Some functionality from the twitter package will not be available.\n",
      "  warnings.warn(\"The twython library has not been installed. \"\n"
     ]
    },
    {
     "name": "stdout",
     "output_type": "stream",
     "text": [
      "[nltk_data] Downloading package vader_lexicon to\n",
      "[nltk_data]     /Users/cesar/nltk_data...\n",
      "[nltk_data]   Package vader_lexicon is already up-to-date!\n"
     ]
    },
    {
     "data": {
      "text/plain": [
       "True"
      ]
     },
     "execution_count": 1,
     "metadata": {},
     "output_type": "execute_result"
    }
   ],
   "source": [
    "import pandas as pd\n",
    "import os\n",
    "from nltk.sentiment import SentimentAnalyzer\n",
    "from nltk.sentiment.util import *\n",
    "from nltk.classify import NaiveBayesClassifier\n",
    "from nltk.corpus import subjectivity\n",
    "from nltk.sentiment.vader import SentimentIntensityAnalyzer\n",
    "\n",
    "nltk.download('vader_lexicon')"
   ]
  },
  {
   "cell_type": "markdown",
   "metadata": {},
   "source": [
    "Information of a tweet\n",
    "- id\n",
    "- created_at\n",
    "- text\n",
    "- user -> location\n",
    "\n",
    "Location is a bit useless, we can use:\n",
    "- timezone\n",
    "- geo\n",
    "- coordinates"
   ]
  },
  {
   "cell_type": "code",
   "execution_count": 15,
   "metadata": {
    "collapsed": false
   },
   "outputs": [
    {
     "data": {
      "text/plain": [
       "{'coord': None,\n",
       " 'created_at': 'Sun Mar 19 17:26:30 +0000 2017',\n",
       " 'id': 843514025287794689,\n",
       " 'location': 'New Jersey',\n",
       " 'place': None,\n",
       " 'text': '#Career #opportunity for #Python Developer (17-00822) - NY - New York https://t.co/IAzcLi3kbm #ApTask. More here: https://t.co/d4T7jqfBNy',\n",
       " 'timezone': 'Pacific Time (US & Canada)'}"
      ]
     },
     "execution_count": 15,
     "metadata": {},
     "output_type": "execute_result"
    }
   ],
   "source": [
    "# Analyze tweet\n",
    "hashtag = 'brexit'\n",
    "\n",
    "tweets = []\n",
    "with open(hashtag+'.json', 'r') as f:\n",
    "    for line in f:\n",
    "        tweet = {}\n",
    "        dict_tweet = json.loads(line)\n",
    "        tweet['id'] = dict_tweet['id']\n",
    "        tweet['created_at'] = dict_tweet['created_at']\n",
    "        tweet['text'] = dict_tweet['text']\n",
    "        tweet['location'] = dict_tweet['user']['location']\n",
    "        tweet['timezone'] = dict_tweet['user']['time_zone']\n",
    "        tweet['coord'] = dict_tweet['coordinates']\n",
    "        tweet['place'] = dict_tweet['place']\n",
    "        tweets.append(tweet)\n",
    "tweets[0]"
   ]
  },
  {
   "cell_type": "code",
   "execution_count": 16,
   "metadata": {
    "collapsed": false
   },
   "outputs": [],
   "source": [
    "df_tweets = pd.DataFrame.from_dict(tweets)"
   ]
  },
  {
   "cell_type": "code",
   "execution_count": 17,
   "metadata": {
    "collapsed": false
   },
   "outputs": [
    {
     "data": {
      "text/plain": [
       "coord           0\n",
       "created_at    616\n",
       "id            616\n",
       "location      454\n",
       "place           6\n",
       "text          616\n",
       "timezone      397\n",
       "dtype: int64"
      ]
     },
     "execution_count": 17,
     "metadata": {},
     "output_type": "execute_result"
    }
   ],
   "source": [
    "df_tweets.count()"
   ]
  },
  {
   "cell_type": "code",
   "execution_count": 18,
   "metadata": {
    "collapsed": false
   },
   "outputs": [],
   "source": [
    "sid = SentimentIntensityAnalyzer()"
   ]
  },
  {
   "cell_type": "markdown",
   "metadata": {},
   "source": [
    "Compound Variable\n",
    "- positive sentiment: compound score >= 0.5\n",
    "- neutral sentiment: (compound score > -0.5) and (compound score < 0.5)\n",
    "- negative sentiment: compound score <= -0.5"
   ]
  },
  {
   "cell_type": "code",
   "execution_count": 19,
   "metadata": {
    "collapsed": true
   },
   "outputs": [],
   "source": [
    "def sentiment(x):\n",
    "    sentence = x['text']\n",
    "    sentiment = 'neutral'\n",
    "    ss = sid.polarity_scores(sentence)\n",
    "    for k in sorted(ss):\n",
    "        if(k=='compound'):\n",
    "            if(ss[k]>=0.5):\n",
    "                sentiment = 'positive'\n",
    "            elif(ss[k]<=-0.5):\n",
    "                sentiment = 'negative'\n",
    "            else:\n",
    "                sentiment = 'neutral'\n",
    "    return sentiment"
   ]
  },
  {
   "cell_type": "code",
   "execution_count": 20,
   "metadata": {
    "collapsed": true
   },
   "outputs": [],
   "source": [
    "df_tweets['sentiment'] = df_tweets.apply(lambda x: sentiment(x), axis=1)"
   ]
  },
  {
   "cell_type": "code",
   "execution_count": 21,
   "metadata": {
    "collapsed": false
   },
   "outputs": [
    {
     "data": {
      "text/html": [
       "<div>\n",
       "<table border=\"1\" class=\"dataframe\">\n",
       "  <thead>\n",
       "    <tr style=\"text-align: right;\">\n",
       "      <th></th>\n",
       "      <th>coord</th>\n",
       "      <th>created_at</th>\n",
       "      <th>id</th>\n",
       "      <th>location</th>\n",
       "      <th>place</th>\n",
       "      <th>text</th>\n",
       "      <th>timezone</th>\n",
       "      <th>sentiment</th>\n",
       "    </tr>\n",
       "  </thead>\n",
       "  <tbody>\n",
       "    <tr>\n",
       "      <th>0</th>\n",
       "      <td>None</td>\n",
       "      <td>Sun Mar 19 17:26:30 +0000 2017</td>\n",
       "      <td>843514025287794689</td>\n",
       "      <td>New Jersey</td>\n",
       "      <td>None</td>\n",
       "      <td>#Career #opportunity for #Python Developer (17...</td>\n",
       "      <td>Pacific Time (US &amp; Canada)</td>\n",
       "      <td>neutral</td>\n",
       "    </tr>\n",
       "    <tr>\n",
       "      <th>1</th>\n",
       "      <td>None</td>\n",
       "      <td>Sun Mar 19 17:26:32 +0000 2017</td>\n",
       "      <td>843514034590769152</td>\n",
       "      <td>London, England</td>\n",
       "      <td>None</td>\n",
       "      <td>RT @raamana_: So @MathWorks itself put togethe...</td>\n",
       "      <td>None</td>\n",
       "      <td>neutral</td>\n",
       "    </tr>\n",
       "  </tbody>\n",
       "</table>\n",
       "</div>"
      ],
      "text/plain": [
       "  coord                      created_at                  id         location  \\\n",
       "0  None  Sun Mar 19 17:26:30 +0000 2017  843514025287794689       New Jersey   \n",
       "1  None  Sun Mar 19 17:26:32 +0000 2017  843514034590769152  London, England   \n",
       "\n",
       "  place                                               text  \\\n",
       "0  None  #Career #opportunity for #Python Developer (17...   \n",
       "1  None  RT @raamana_: So @MathWorks itself put togethe...   \n",
       "\n",
       "                     timezone sentiment  \n",
       "0  Pacific Time (US & Canada)   neutral  \n",
       "1                        None   neutral  "
      ]
     },
     "execution_count": 21,
     "metadata": {},
     "output_type": "execute_result"
    }
   ],
   "source": [
    "df_tweets.head(2)"
   ]
  },
  {
   "cell_type": "code",
   "execution_count": 22,
   "metadata": {
    "collapsed": false
   },
   "outputs": [
    {
     "data": {
      "text/plain": [
       "coord           0\n",
       "created_at    616\n",
       "id            616\n",
       "location      454\n",
       "place           6\n",
       "text          616\n",
       "timezone      397\n",
       "sentiment     616\n",
       "dtype: int64"
      ]
     },
     "execution_count": 22,
     "metadata": {},
     "output_type": "execute_result"
    }
   ],
   "source": [
    "df_tweets.count()"
   ]
  },
  {
   "cell_type": "code",
   "execution_count": 23,
   "metadata": {
    "collapsed": false
   },
   "outputs": [
    {
     "data": {
      "text/plain": [
       "sentiment\n",
       "negative     88\n",
       "neutral     440\n",
       "positive     88\n",
       "Name: id, dtype: int64"
      ]
     },
     "execution_count": 23,
     "metadata": {},
     "output_type": "execute_result"
    }
   ],
   "source": [
    "df_tweets.groupby(['sentiment']).count()['id']"
   ]
  },
  {
   "cell_type": "code",
   "execution_count": 24,
   "metadata": {
    "collapsed": false
   },
   "outputs": [],
   "source": [
    "pd.options.display.max_colwidth = 266"
   ]
  },
  {
   "cell_type": "code",
   "execution_count": 25,
   "metadata": {
    "collapsed": false
   },
   "outputs": [
    {
     "data": {
      "text/html": [
       "<div>\n",
       "<table border=\"1\" class=\"dataframe\">\n",
       "  <thead>\n",
       "    <tr style=\"text-align: right;\">\n",
       "      <th></th>\n",
       "      <th>coord</th>\n",
       "      <th>created_at</th>\n",
       "      <th>id</th>\n",
       "      <th>location</th>\n",
       "      <th>place</th>\n",
       "      <th>text</th>\n",
       "      <th>timezone</th>\n",
       "      <th>sentiment</th>\n",
       "    </tr>\n",
       "  </thead>\n",
       "  <tbody>\n",
       "    <tr>\n",
       "      <th>4</th>\n",
       "      <td>None</td>\n",
       "      <td>Sun Apr 02 16:50:06 +0000 2017</td>\n",
       "      <td>848578298447876096</td>\n",
       "      <td>The EU Hegemony</td>\n",
       "      <td>None</td>\n",
       "      <td>Angels &amp;amp; ministers of grace defend us!\\n\\nIts Armageddon! \\n\\nAbandon all hope the end is nigh!\\n\\n#Brexit is the harbing… https://t.co/J9X9IUYXSm</td>\n",
       "      <td>None</td>\n",
       "      <td>positive</td>\n",
       "    </tr>\n",
       "    <tr>\n",
       "      <th>18</th>\n",
       "      <td>None</td>\n",
       "      <td>Sun Apr 02 16:50:12 +0000 2017</td>\n",
       "      <td>848578322640642049</td>\n",
       "      <td>London</td>\n",
       "      <td>None</td>\n",
       "      <td>I'm sure those who will suffer a massive drop in income will love that the holidays they can't afford will require a blue passport #Brexit</td>\n",
       "      <td>London</td>\n",
       "      <td>positive</td>\n",
       "    </tr>\n",
       "    <tr>\n",
       "      <th>23</th>\n",
       "      <td>None</td>\n",
       "      <td>Sun Apr 02 16:50:18 +0000 2017</td>\n",
       "      <td>848578347571585024</td>\n",
       "      <td>None</td>\n",
       "      <td>None</td>\n",
       "      <td>RT @socioblah: Tory blue passports\\nLab/TU won rights bonfire\\nRoyal Yacht\\nByebye #NHS public service + civic life\\nHello ColonialCuckooLand\\n#…</td>\n",
       "      <td>Edinburgh</td>\n",
       "      <td>positive</td>\n",
       "    </tr>\n",
       "    <tr>\n",
       "      <th>26</th>\n",
       "      <td>None</td>\n",
       "      <td>Sun Apr 02 16:50:25 +0000 2017</td>\n",
       "      <td>848578374763204608</td>\n",
       "      <td>None</td>\n",
       "      <td>None</td>\n",
       "      <td>RT @LostChordof1963: @BathforEurope thanks for the brilliant March today...keep up the good work\\n#Bath #Brexit https://t.co/9s6MdWNYuK</td>\n",
       "      <td>None</td>\n",
       "      <td>positive</td>\n",
       "    </tr>\n",
       "    <tr>\n",
       "      <th>39</th>\n",
       "      <td>None</td>\n",
       "      <td>Sun Apr 02 16:50:39 +0000 2017</td>\n",
       "      <td>848578436805402624</td>\n",
       "      <td>Macclesfield, England</td>\n",
       "      <td>{'id': '8ef32ff56ef11c22', 'url': 'https://api.twitter.com/1.1/geo/id/8ef32ff56ef11c22.json', 'place_type': 'admin', 'name': 'Engeland', 'full_name': 'Engeland, Verenigd Koninkrijk', 'country_code': 'GB', 'country': 'Verenigd Koninkrijk', 'bounding_box': {'type'...</td>\n",
       "      <td>The problem is: Everyone involved want the best deal for #Brexit, except nobody knows what it looks like.</td>\n",
       "      <td>Amsterdam</td>\n",
       "      <td>positive</td>\n",
       "    </tr>\n",
       "  </tbody>\n",
       "</table>\n",
       "</div>"
      ],
      "text/plain": [
       "   coord                      created_at                  id  \\\n",
       "4   None  Sun Apr 02 16:50:06 +0000 2017  848578298447876096   \n",
       "18  None  Sun Apr 02 16:50:12 +0000 2017  848578322640642049   \n",
       "23  None  Sun Apr 02 16:50:18 +0000 2017  848578347571585024   \n",
       "26  None  Sun Apr 02 16:50:25 +0000 2017  848578374763204608   \n",
       "39  None  Sun Apr 02 16:50:39 +0000 2017  848578436805402624   \n",
       "\n",
       "                 location  \\\n",
       "4         The EU Hegemony   \n",
       "18                 London   \n",
       "23                   None   \n",
       "26                   None   \n",
       "39  Macclesfield, England   \n",
       "\n",
       "                                                                                                                                                                                                                                                                        place  \\\n",
       "4                                                                                                                                                                                                                                                                        None   \n",
       "18                                                                                                                                                                                                                                                                       None   \n",
       "23                                                                                                                                                                                                                                                                       None   \n",
       "26                                                                                                                                                                                                                                                                       None   \n",
       "39  {'id': '8ef32ff56ef11c22', 'url': 'https://api.twitter.com/1.1/geo/id/8ef32ff56ef11c22.json', 'place_type': 'admin', 'name': 'Engeland', 'full_name': 'Engeland, Verenigd Koninkrijk', 'country_code': 'GB', 'country': 'Verenigd Koninkrijk', 'bounding_box': {'type'...   \n",
       "\n",
       "                                                                                                                                                      text  \\\n",
       "4   Angels &amp; ministers of grace defend us!\\n\\nIts Armageddon! \\n\\nAbandon all hope the end is nigh!\\n\\n#Brexit is the harbing… https://t.co/J9X9IUYXSm   \n",
       "18              I'm sure those who will suffer a massive drop in income will love that the holidays they can't afford will require a blue passport #Brexit   \n",
       "23       RT @socioblah: Tory blue passports\\nLab/TU won rights bonfire\\nRoyal Yacht\\nByebye #NHS public service + civic life\\nHello ColonialCuckooLand\\n#…   \n",
       "26                 RT @LostChordof1963: @BathforEurope thanks for the brilliant March today...keep up the good work\\n#Bath #Brexit https://t.co/9s6MdWNYuK   \n",
       "39                                               The problem is: Everyone involved want the best deal for #Brexit, except nobody knows what it looks like.   \n",
       "\n",
       "     timezone sentiment  \n",
       "4        None  positive  \n",
       "18     London  positive  \n",
       "23  Edinburgh  positive  \n",
       "26       None  positive  \n",
       "39  Amsterdam  positive  "
      ]
     },
     "execution_count": 25,
     "metadata": {},
     "output_type": "execute_result"
    }
   ],
   "source": [
    "df_tweets[(df_tweets['sentiment']=='positive')].head(5) "
   ]
  },
  {
   "cell_type": "code",
   "execution_count": 26,
   "metadata": {
    "collapsed": false
   },
   "outputs": [
    {
     "data": {
      "text/html": [
       "<div>\n",
       "<table border=\"1\" class=\"dataframe\">\n",
       "  <thead>\n",
       "    <tr style=\"text-align: right;\">\n",
       "      <th></th>\n",
       "      <th>coord</th>\n",
       "      <th>created_at</th>\n",
       "      <th>id</th>\n",
       "      <th>location</th>\n",
       "      <th>place</th>\n",
       "      <th>text</th>\n",
       "      <th>timezone</th>\n",
       "      <th>sentiment</th>\n",
       "    </tr>\n",
       "  </thead>\n",
       "  <tbody>\n",
       "    <tr>\n",
       "      <th>2</th>\n",
       "      <td>None</td>\n",
       "      <td>Sun Apr 02 16:50:05 +0000 2017</td>\n",
       "      <td>848578291430830080</td>\n",
       "      <td>Belfast, Ireland</td>\n",
       "      <td>None</td>\n",
       "      <td>RT @stewartcdickson: Serious threat to airlines and business as Brexit mad PM drags us out of Open Skies agreement https://t.co/UjvzjPkCpu</td>\n",
       "      <td>London</td>\n",
       "      <td>negative</td>\n",
       "    </tr>\n",
       "    <tr>\n",
       "      <th>8</th>\n",
       "      <td>None</td>\n",
       "      <td>Sun Apr 02 16:50:08 +0000 2017</td>\n",
       "      <td>848578306157031424</td>\n",
       "      <td>The Christmas Barse, Biffin's Bridge</td>\n",
       "      <td>None</td>\n",
       "      <td>LET’S HAVE A WAR! #Brexit</td>\n",
       "      <td>London</td>\n",
       "      <td>negative</td>\n",
       "    </tr>\n",
       "    <tr>\n",
       "      <th>9</th>\n",
       "      <td>None</td>\n",
       "      <td>Sun Apr 02 16:50:09 +0000 2017</td>\n",
       "      <td>848578310707785729</td>\n",
       "      <td>birmingham, UK</td>\n",
       "      <td>None</td>\n",
       "      <td>I know, let's blow the extra money we were going to spend on the NHS on blue passports, a royal yacht and war with Spain #Brexit</td>\n",
       "      <td>London</td>\n",
       "      <td>negative</td>\n",
       "    </tr>\n",
       "    <tr>\n",
       "      <th>10</th>\n",
       "      <td>None</td>\n",
       "      <td>Sun Apr 02 16:50:09 +0000 2017</td>\n",
       "      <td>848578311475396609</td>\n",
       "      <td>Swansea, Wales</td>\n",
       "      <td>None</td>\n",
       "      <td>Tories threaten withdrawal of defence cooperation then war at the beginning of #Brexit negotiation. Unfit for office https://t.co/ecy20yseZ9</td>\n",
       "      <td>None</td>\n",
       "      <td>negative</td>\n",
       "    </tr>\n",
       "    <tr>\n",
       "      <th>11</th>\n",
       "      <td>None</td>\n",
       "      <td>Sun Apr 02 16:50:10 +0000 2017</td>\n",
       "      <td>848578312914046976</td>\n",
       "      <td>None</td>\n",
       "      <td>None</td>\n",
       "      <td>RT @GeraintDaviesMP: Tories threaten withdrawal of defence cooperation then war at the beginning of #Brexit negotiation. Unfit for office h…</td>\n",
       "      <td>None</td>\n",
       "      <td>negative</td>\n",
       "    </tr>\n",
       "  </tbody>\n",
       "</table>\n",
       "</div>"
      ],
      "text/plain": [
       "   coord                      created_at                  id  \\\n",
       "2   None  Sun Apr 02 16:50:05 +0000 2017  848578291430830080   \n",
       "8   None  Sun Apr 02 16:50:08 +0000 2017  848578306157031424   \n",
       "9   None  Sun Apr 02 16:50:09 +0000 2017  848578310707785729   \n",
       "10  None  Sun Apr 02 16:50:09 +0000 2017  848578311475396609   \n",
       "11  None  Sun Apr 02 16:50:10 +0000 2017  848578312914046976   \n",
       "\n",
       "                                location place  \\\n",
       "2                       Belfast, Ireland  None   \n",
       "8   The Christmas Barse, Biffin's Bridge  None   \n",
       "9                         birmingham, UK  None   \n",
       "10                        Swansea, Wales  None   \n",
       "11                                  None  None   \n",
       "\n",
       "                                                                                                                                            text  \\\n",
       "2     RT @stewartcdickson: Serious threat to airlines and business as Brexit mad PM drags us out of Open Skies agreement https://t.co/UjvzjPkCpu   \n",
       "8                                                                                                                      LET’S HAVE A WAR! #Brexit   \n",
       "9               I know, let's blow the extra money we were going to spend on the NHS on blue passports, a royal yacht and war with Spain #Brexit   \n",
       "10  Tories threaten withdrawal of defence cooperation then war at the beginning of #Brexit negotiation. Unfit for office https://t.co/ecy20yseZ9   \n",
       "11  RT @GeraintDaviesMP: Tories threaten withdrawal of defence cooperation then war at the beginning of #Brexit negotiation. Unfit for office h…   \n",
       "\n",
       "   timezone sentiment  \n",
       "2    London  negative  \n",
       "8    London  negative  \n",
       "9    London  negative  \n",
       "10     None  negative  \n",
       "11     None  negative  "
      ]
     },
     "execution_count": 26,
     "metadata": {},
     "output_type": "execute_result"
    }
   ],
   "source": [
    "df_tweets[(df_tweets['sentiment']=='negative')].head(5)"
   ]
  },
  {
   "cell_type": "code",
   "execution_count": 27,
   "metadata": {
    "collapsed": false
   },
   "outputs": [],
   "source": [
    "# Save\n",
    "dir_df = os.path.join(os.path.abspath(''),'stg')\n",
    "result_filename = r'df_tweets.pkl'\n",
    "result_fullpath = os.path.join(dir_df, result_filename)\n",
    "df_tweets.to_pickle(result_fullpath)"
   ]
  }
 ],
 "metadata": {
  "kernelspec": {
   "display_name": "Python 3",
   "language": "python",
   "name": "python3"
  },
  "language_info": {
   "codemirror_mode": {
    "name": "ipython",
    "version": 3
   },
   "file_extension": ".py",
   "mimetype": "text/x-python",
   "name": "python",
   "nbconvert_exporter": "python",
   "pygments_lexer": "ipython3",
   "version": "3.6.0"
  }
 },
 "nbformat": 4,
 "nbformat_minor": 2
}
