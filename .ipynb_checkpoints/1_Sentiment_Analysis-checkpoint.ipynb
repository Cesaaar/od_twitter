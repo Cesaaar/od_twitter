{
 "cells": [
  {
   "cell_type": "markdown",
   "metadata": {},
   "source": [
    "VADER Sentiment Analysis\n",
    "1. http://www.nltk.org/howto/sentiment.html\n",
    "2. https://github.com/cjhutto/vaderSentiment\n",
    "\n",
    "VADER Sentiment Analysis. VADER (Valence Aware Dictionary and sEntiment Reasoner) is a lexicon and rule-based sentiment analysis tool that is specifically attuned to sentiments expressed in social media, and works well on texts from other domains.\n",
    "\n",
    "Hutto, C.J. & Gilbert, E.E. (2014). VADER: A Parsimonious Rule-based Model for Sentiment Analysis of Social Media Text. Eighth International Conference on Weblogs and Social Media (ICWSM-14). Ann Arbor, MI, June 2014."
   ]
  },
  {
   "cell_type": "code",
   "execution_count": 1,
   "metadata": {
    "collapsed": false
   },
   "outputs": [
    {
     "name": "stderr",
     "output_type": "stream",
     "text": [
      "/Users/cesar/anaconda/lib/python3.6/site-packages/nltk/twitter/__init__.py:20: UserWarning: The twython library has not been installed. Some functionality from the twitter package will not be available.\n",
      "  warnings.warn(\"The twython library has not been installed. \"\n"
     ]
    },
    {
     "name": "stdout",
     "output_type": "stream",
     "text": [
      "[nltk_data] Downloading package vader_lexicon to\n",
      "[nltk_data]     /Users/cesar/nltk_data...\n",
      "[nltk_data]   Package vader_lexicon is already up-to-date!\n"
     ]
    },
    {
     "data": {
      "text/plain": [
       "True"
      ]
     },
     "execution_count": 1,
     "metadata": {},
     "output_type": "execute_result"
    }
   ],
   "source": [
    "import pandas as pd\n",
    "import os\n",
    "from nltk.sentiment import SentimentAnalyzer\n",
    "from nltk.sentiment.util import *\n",
    "from nltk.classify import NaiveBayesClassifier\n",
    "from nltk.corpus import subjectivity\n",
    "from nltk.sentiment.vader import SentimentIntensityAnalyzer\n",
    "\n",
    "nltk.download('vader_lexicon')"
   ]
  },
  {
   "cell_type": "markdown",
   "metadata": {},
   "source": [
    "Information of a tweet\n",
    "- id\n",
    "- created_at\n",
    "- text\n",
    "- user -> location\n",
    "\n",
    "Location is a bit useless, we can use:\n",
    "- timezone\n",
    "- geo\n",
    "- coordinates"
   ]
  },
  {
   "cell_type": "code",
   "execution_count": 2,
   "metadata": {
    "collapsed": false
   },
   "outputs": [
    {
     "data": {
      "text/plain": [
       "{'coord': None,\n",
       " 'created_at': 'Thu May 11 20:44:26 +0000 2017',\n",
       " 'id': 862770395853860864,\n",
       " 'location': 'Ireland',\n",
       " 'place': None,\n",
       " 'text': 'RT @2ALAW: 📣Hey Hillary The FBI Is Going To Re-open Your Investigation!!\\n\\nHillary: Wait What? Like With A Can Opener Or Someth… ',\n",
       " 'timezone': None}"
      ]
     },
     "execution_count": 2,
     "metadata": {},
     "output_type": "execute_result"
    }
   ],
   "source": [
    "# Analyze tweet\n",
    "hashtag = 'trump'\n",
    "\n",
    "tweets = []\n",
    "with open(hashtag+'.json', 'r') as f:\n",
    "    for line in f:\n",
    "        tweet = {}\n",
    "        dict_tweet = json.loads(line)\n",
    "        tweet['id'] = dict_tweet['id']\n",
    "        tweet['created_at'] = dict_tweet['created_at']\n",
    "        tweet['text'] = dict_tweet['text']\n",
    "        tweet['location'] = dict_tweet['user']['location']\n",
    "        tweet['timezone'] = dict_tweet['user']['time_zone']\n",
    "        tweet['coord'] = dict_tweet['coordinates']\n",
    "        tweet['place'] = dict_tweet['place']\n",
    "        tweets.append(tweet)\n",
    "tweets[0]"
   ]
  },
  {
   "cell_type": "code",
   "execution_count": 3,
   "metadata": {
    "collapsed": false
   },
   "outputs": [],
   "source": [
    "df_tweets = pd.DataFrame.from_dict(tweets)"
   ]
  },
  {
   "cell_type": "code",
   "execution_count": 4,
   "metadata": {
    "collapsed": false
   },
   "outputs": [
    {
     "data": {
      "text/plain": [
       "coord            0\n",
       "created_at    1681\n",
       "id            1681\n",
       "location      1075\n",
       "place           19\n",
       "text          1681\n",
       "timezone       865\n",
       "dtype: int64"
      ]
     },
     "execution_count": 4,
     "metadata": {},
     "output_type": "execute_result"
    }
   ],
   "source": [
    "df_tweets.count()"
   ]
  },
  {
   "cell_type": "code",
   "execution_count": 5,
   "metadata": {
    "collapsed": false
   },
   "outputs": [],
   "source": [
    "sid = SentimentIntensityAnalyzer()"
   ]
  },
  {
   "cell_type": "markdown",
   "metadata": {},
   "source": [
    "Compound Variable\n",
    "- positive sentiment: compound score >= 0.5\n",
    "- neutral sentiment: (compound score > -0.5) and (compound score < 0.5)\n",
    "- negative sentiment: compound score <= -0.5"
   ]
  },
  {
   "cell_type": "code",
   "execution_count": 6,
   "metadata": {
    "collapsed": true
   },
   "outputs": [],
   "source": [
    "def sentiment(x):\n",
    "    sentence = x['text']\n",
    "    sentiment = 'neutral'\n",
    "    ss = sid.polarity_scores(sentence)\n",
    "    for k in sorted(ss):\n",
    "        if(k=='compound'):\n",
    "            if(ss[k]>=0.5):\n",
    "                sentiment = 'positive'\n",
    "            elif(ss[k]<=-0.5):\n",
    "                sentiment = 'negative'\n",
    "            else:\n",
    "                sentiment = 'neutral'\n",
    "    return sentiment"
   ]
  },
  {
   "cell_type": "code",
   "execution_count": 7,
   "metadata": {
    "collapsed": true
   },
   "outputs": [],
   "source": [
    "def sentiment_compound(x):\n",
    "    sentence = x['text']\n",
    "    sentiment_compound = 0\n",
    "    ss = sid.polarity_scores(sentence)\n",
    "    for k in sorted(ss):\n",
    "        sentiment_compound = ss[k]\n",
    "    return sentiment_compound"
   ]
  },
  {
   "cell_type": "code",
   "execution_count": 8,
   "metadata": {
    "collapsed": false
   },
   "outputs": [],
   "source": [
    "df_tweets['sentiment'] = df_tweets.apply(lambda x: sentiment(x), axis=1)\n",
    "df_tweets['sentiment_compound'] = df_tweets.apply(lambda x: sentiment_compound(x), axis=1)"
   ]
  },
  {
   "cell_type": "code",
   "execution_count": 9,
   "metadata": {
    "collapsed": false
   },
   "outputs": [
    {
     "data": {
      "text/html": [
       "<div>\n",
       "<table border=\"1\" class=\"dataframe\">\n",
       "  <thead>\n",
       "    <tr style=\"text-align: right;\">\n",
       "      <th></th>\n",
       "      <th>coord</th>\n",
       "      <th>created_at</th>\n",
       "      <th>id</th>\n",
       "      <th>location</th>\n",
       "      <th>place</th>\n",
       "      <th>text</th>\n",
       "      <th>timezone</th>\n",
       "      <th>sentiment</th>\n",
       "      <th>sentiment_compound</th>\n",
       "    </tr>\n",
       "  </thead>\n",
       "  <tbody>\n",
       "    <tr>\n",
       "      <th>0</th>\n",
       "      <td>None</td>\n",
       "      <td>Thu May 11 20:44:26 +0000 2017</td>\n",
       "      <td>862770395853860864</td>\n",
       "      <td>Ireland</td>\n",
       "      <td>None</td>\n",
       "      <td>RT @2ALAW: 📣Hey Hillary The FBI Is Going To Re...</td>\n",
       "      <td>None</td>\n",
       "      <td>neutral</td>\n",
       "      <td>0.134</td>\n",
       "    </tr>\n",
       "    <tr>\n",
       "      <th>1</th>\n",
       "      <td>None</td>\n",
       "      <td>Thu May 11 20:44:26 +0000 2017</td>\n",
       "      <td>862770395992272896</td>\n",
       "      <td>None</td>\n",
       "      <td>None</td>\n",
       "      <td>He's a madman https://t.co/B2ltvqzop3 #trump #...</td>\n",
       "      <td>None</td>\n",
       "      <td>neutral</td>\n",
       "      <td>0.000</td>\n",
       "    </tr>\n",
       "  </tbody>\n",
       "</table>\n",
       "</div>"
      ],
      "text/plain": [
       "  coord                      created_at                  id location place  \\\n",
       "0  None  Thu May 11 20:44:26 +0000 2017  862770395853860864  Ireland  None   \n",
       "1  None  Thu May 11 20:44:26 +0000 2017  862770395992272896     None  None   \n",
       "\n",
       "                                                text timezone sentiment  \\\n",
       "0  RT @2ALAW: 📣Hey Hillary The FBI Is Going To Re...     None   neutral   \n",
       "1  He's a madman https://t.co/B2ltvqzop3 #trump #...     None   neutral   \n",
       "\n",
       "   sentiment_compound  \n",
       "0               0.134  \n",
       "1               0.000  "
      ]
     },
     "execution_count": 9,
     "metadata": {},
     "output_type": "execute_result"
    }
   ],
   "source": [
    "df_tweets.head(2)"
   ]
  },
  {
   "cell_type": "code",
   "execution_count": 10,
   "metadata": {
    "collapsed": false
   },
   "outputs": [
    {
     "data": {
      "text/plain": [
       "coord                    0\n",
       "created_at            1681\n",
       "id                    1681\n",
       "location              1075\n",
       "place                   19\n",
       "text                  1681\n",
       "timezone               865\n",
       "sentiment             1681\n",
       "sentiment_compound    1681\n",
       "dtype: int64"
      ]
     },
     "execution_count": 10,
     "metadata": {},
     "output_type": "execute_result"
    }
   ],
   "source": [
    "df_tweets.count()"
   ]
  },
  {
   "cell_type": "code",
   "execution_count": 11,
   "metadata": {
    "collapsed": false
   },
   "outputs": [
    {
     "data": {
      "text/plain": [
       "sentiment\n",
       "negative     278\n",
       "neutral     1238\n",
       "positive     165\n",
       "Name: id, dtype: int64"
      ]
     },
     "execution_count": 11,
     "metadata": {},
     "output_type": "execute_result"
    }
   ],
   "source": [
    "df_tweets.groupby(['sentiment']).count()['id']"
   ]
  },
  {
   "cell_type": "code",
   "execution_count": 12,
   "metadata": {
    "collapsed": false
   },
   "outputs": [],
   "source": [
    "pd.options.display.max_colwidth = 266"
   ]
  },
  {
   "cell_type": "code",
   "execution_count": 13,
   "metadata": {
    "collapsed": false
   },
   "outputs": [
    {
     "data": {
      "text/html": [
       "<div>\n",
       "<table border=\"1\" class=\"dataframe\">\n",
       "  <thead>\n",
       "    <tr style=\"text-align: right;\">\n",
       "      <th></th>\n",
       "      <th>coord</th>\n",
       "      <th>created_at</th>\n",
       "      <th>id</th>\n",
       "      <th>location</th>\n",
       "      <th>place</th>\n",
       "      <th>text</th>\n",
       "      <th>timezone</th>\n",
       "      <th>sentiment</th>\n",
       "      <th>sentiment_compound</th>\n",
       "    </tr>\n",
       "  </thead>\n",
       "  <tbody>\n",
       "    <tr>\n",
       "      <th>8</th>\n",
       "      <td>None</td>\n",
       "      <td>Thu May 11 20:44:37 +0000 2017</td>\n",
       "      <td>862770443622666240</td>\n",
       "      <td>California, USA</td>\n",
       "      <td>None</td>\n",
       "      <td>RT @Unpersuaded112: Here are 3 #conservative #republican #sexual #predators that republicans support and love. #Oreilly #Ailes #trump…</td>\n",
       "      <td>None</td>\n",
       "      <td>positive</td>\n",
       "      <td>0.330</td>\n",
       "    </tr>\n",
       "    <tr>\n",
       "      <th>10</th>\n",
       "      <td>None</td>\n",
       "      <td>Thu May 11 20:44:39 +0000 2017</td>\n",
       "      <td>862770450132213760</td>\n",
       "      <td>citrus heights CA</td>\n",
       "      <td>None</td>\n",
       "      <td>RT @Unpersuaded112: Here are 3 #conservative #republican #sexual #predators that republicans support and love. #Oreilly #Ailes #trump…</td>\n",
       "      <td>None</td>\n",
       "      <td>positive</td>\n",
       "      <td>0.330</td>\n",
       "    </tr>\n",
       "    <tr>\n",
       "      <th>18</th>\n",
       "      <td>None</td>\n",
       "      <td>Thu May 11 20:44:45 +0000 2017</td>\n",
       "      <td>862770475423985666</td>\n",
       "      <td>None</td>\n",
       "      <td>None</td>\n",
       "      <td>RT @DrDenaGrayson: @20committee #Russia🇷🇺sent the message👉🏼it can manipulate #Trump whenever they feel like it. Putin doesn’t care if…</td>\n",
       "      <td>None</td>\n",
       "      <td>positive</td>\n",
       "      <td>0.263</td>\n",
       "    </tr>\n",
       "    <tr>\n",
       "      <th>29</th>\n",
       "      <td>None</td>\n",
       "      <td>Thu May 11 20:44:51 +0000 2017</td>\n",
       "      <td>862770502208811008</td>\n",
       "      <td>Wexford, Ireland</td>\n",
       "      <td>None</td>\n",
       "      <td>People in the US really love #Trump. https://t.co/JTpuvohg4a</td>\n",
       "      <td>Dublin</td>\n",
       "      <td>positive</td>\n",
       "      <td>0.391</td>\n",
       "    </tr>\n",
       "    <tr>\n",
       "      <th>30</th>\n",
       "      <td>None</td>\n",
       "      <td>Thu May 11 20:44:52 +0000 2017</td>\n",
       "      <td>862770503639027713</td>\n",
       "      <td>None</td>\n",
       "      <td>None</td>\n",
       "      <td>\"I don’t trust anything coming out of this White House, &amp;amp; I don’t trust this feckless #Congress to constrain #Trump\" https://t.co/u4ZJZbyAfr</td>\n",
       "      <td>None</td>\n",
       "      <td>positive</td>\n",
       "      <td>0.268</td>\n",
       "    </tr>\n",
       "  </tbody>\n",
       "</table>\n",
       "</div>"
      ],
      "text/plain": [
       "   coord                      created_at                  id  \\\n",
       "8   None  Thu May 11 20:44:37 +0000 2017  862770443622666240   \n",
       "10  None  Thu May 11 20:44:39 +0000 2017  862770450132213760   \n",
       "18  None  Thu May 11 20:44:45 +0000 2017  862770475423985666   \n",
       "29  None  Thu May 11 20:44:51 +0000 2017  862770502208811008   \n",
       "30  None  Thu May 11 20:44:52 +0000 2017  862770503639027713   \n",
       "\n",
       "             location place  \\\n",
       "8     California, USA  None   \n",
       "10  citrus heights CA  None   \n",
       "18               None  None   \n",
       "29   Wexford, Ireland  None   \n",
       "30               None  None   \n",
       "\n",
       "                                                                                                                                                text  \\\n",
       "8            RT @Unpersuaded112: Here are 3 #conservative #republican #sexual #predators that republicans support and love. #Oreilly #Ailes #trump…    \n",
       "10           RT @Unpersuaded112: Here are 3 #conservative #republican #sexual #predators that republicans support and love. #Oreilly #Ailes #trump…    \n",
       "18           RT @DrDenaGrayson: @20committee #Russia🇷🇺sent the message👉🏼it can manipulate #Trump whenever they feel like it. Putin doesn’t care if…    \n",
       "29                                                                                      People in the US really love #Trump. https://t.co/JTpuvohg4a   \n",
       "30  \"I don’t trust anything coming out of this White House, &amp; I don’t trust this feckless #Congress to constrain #Trump\" https://t.co/u4ZJZbyAfr   \n",
       "\n",
       "   timezone sentiment  sentiment_compound  \n",
       "8      None  positive               0.330  \n",
       "10     None  positive               0.330  \n",
       "18     None  positive               0.263  \n",
       "29   Dublin  positive               0.391  \n",
       "30     None  positive               0.268  "
      ]
     },
     "execution_count": 13,
     "metadata": {},
     "output_type": "execute_result"
    }
   ],
   "source": [
    "df_tweets[(df_tweets['sentiment']=='positive')].head(5) "
   ]
  },
  {
   "cell_type": "code",
   "execution_count": 14,
   "metadata": {
    "collapsed": false
   },
   "outputs": [
    {
     "data": {
      "text/html": [
       "<div>\n",
       "<table border=\"1\" class=\"dataframe\">\n",
       "  <thead>\n",
       "    <tr style=\"text-align: right;\">\n",
       "      <th></th>\n",
       "      <th>coord</th>\n",
       "      <th>created_at</th>\n",
       "      <th>id</th>\n",
       "      <th>location</th>\n",
       "      <th>place</th>\n",
       "      <th>text</th>\n",
       "      <th>timezone</th>\n",
       "      <th>sentiment</th>\n",
       "      <th>sentiment_compound</th>\n",
       "    </tr>\n",
       "  </thead>\n",
       "  <tbody>\n",
       "    <tr>\n",
       "      <th>5</th>\n",
       "      <td>None</td>\n",
       "      <td>Thu May 11 20:44:30 +0000 2017</td>\n",
       "      <td>862770411452456960</td>\n",
       "      <td>None</td>\n",
       "      <td>None</td>\n",
       "      <td>The UN is a Bad Joke.  #Trump should pull us out of that miserable failure and save a Bundle. https://t.co/FW2f7LzmOd</td>\n",
       "      <td>None</td>\n",
       "      <td>negative</td>\n",
       "      <td>0.190</td>\n",
       "    </tr>\n",
       "    <tr>\n",
       "      <th>9</th>\n",
       "      <td>None</td>\n",
       "      <td>Thu May 11 20:44:37 +0000 2017</td>\n",
       "      <td>862770443496943616</td>\n",
       "      <td>None</td>\n",
       "      <td>None</td>\n",
       "      <td>RT @RonanLTynan: #Trump killing #Syria/n civilians ignoring #Assad helping #ISIS because resp &amp;gt;90% of civilian deaths &amp;amp; cause of rad…</td>\n",
       "      <td>None</td>\n",
       "      <td>negative</td>\n",
       "      <td>0.084</td>\n",
       "    </tr>\n",
       "    <tr>\n",
       "      <th>11</th>\n",
       "      <td>None</td>\n",
       "      <td>Thu May 11 20:44:39 +0000 2017</td>\n",
       "      <td>862770451805868033</td>\n",
       "      <td>Knoxville, TN</td>\n",
       "      <td>None</td>\n",
       "      <td>RT @2ALAW: Right After Maxine Waters Argued That Trump Should Not Have Fired James Comey....She Said This⬇️\\n\\n#Trump 🇺🇸…</td>\n",
       "      <td>Eastern Time (US &amp; Canada)</td>\n",
       "      <td>negative</td>\n",
       "      <td>0.000</td>\n",
       "    </tr>\n",
       "    <tr>\n",
       "      <th>17</th>\n",
       "      <td>None</td>\n",
       "      <td>Thu May 11 20:44:43 +0000 2017</td>\n",
       "      <td>862770467576393728</td>\n",
       "      <td>M.I.A.</td>\n",
       "      <td>None</td>\n",
       "      <td>@realDonaldTrump Lmao!!!!! @Rosie needs to delete her account and lay low for a few after this one. #Trump</td>\n",
       "      <td>None</td>\n",
       "      <td>negative</td>\n",
       "      <td>0.000</td>\n",
       "    </tr>\n",
       "    <tr>\n",
       "      <th>27</th>\n",
       "      <td>None</td>\n",
       "      <td>Thu May 11 20:44:50 +0000 2017</td>\n",
       "      <td>862770498006114304</td>\n",
       "      <td>United States</td>\n",
       "      <td>None</td>\n",
       "      <td>RT @bocavista2016: LYING LIBS\\n\\nMcCabe\\n\\n👉#Trump DIDN'T interfere\\n👉#ComeyFiring has ZERO impact\\n👉Comey DIDN'T ask for funds\\n\\nhttps://t.co/3I1…</td>\n",
       "      <td>None</td>\n",
       "      <td>negative</td>\n",
       "      <td>0.000</td>\n",
       "    </tr>\n",
       "  </tbody>\n",
       "</table>\n",
       "</div>"
      ],
      "text/plain": [
       "   coord                      created_at                  id       location  \\\n",
       "5   None  Thu May 11 20:44:30 +0000 2017  862770411452456960           None   \n",
       "9   None  Thu May 11 20:44:37 +0000 2017  862770443496943616           None   \n",
       "11  None  Thu May 11 20:44:39 +0000 2017  862770451805868033  Knoxville, TN   \n",
       "17  None  Thu May 11 20:44:43 +0000 2017  862770467576393728         M.I.A.   \n",
       "27  None  Thu May 11 20:44:50 +0000 2017  862770498006114304  United States   \n",
       "\n",
       "   place  \\\n",
       "5   None   \n",
       "9   None   \n",
       "11  None   \n",
       "17  None   \n",
       "27  None   \n",
       "\n",
       "                                                                                                                                                    text  \\\n",
       "5                                  The UN is a Bad Joke.  #Trump should pull us out of that miserable failure and save a Bundle. https://t.co/FW2f7LzmOd   \n",
       "9          RT @RonanLTynan: #Trump killing #Syria/n civilians ignoring #Assad helping #ISIS because resp &gt;90% of civilian deaths &amp; cause of rad…    \n",
       "11                            RT @2ALAW: Right After Maxine Waters Argued That Trump Should Not Have Fired James Comey....She Said This⬇️\\n\\n#Trump 🇺🇸…    \n",
       "17                                            @realDonaldTrump Lmao!!!!! @Rosie needs to delete her account and lay low for a few after this one. #Trump   \n",
       "27  RT @bocavista2016: LYING LIBS\\n\\nMcCabe\\n\\n👉#Trump DIDN'T interfere\\n👉#ComeyFiring has ZERO impact\\n👉Comey DIDN'T ask for funds\\n\\nhttps://t.co/3I1…   \n",
       "\n",
       "                      timezone sentiment  sentiment_compound  \n",
       "5                         None  negative               0.190  \n",
       "9                         None  negative               0.084  \n",
       "11  Eastern Time (US & Canada)  negative               0.000  \n",
       "17                        None  negative               0.000  \n",
       "27                        None  negative               0.000  "
      ]
     },
     "execution_count": 14,
     "metadata": {},
     "output_type": "execute_result"
    }
   ],
   "source": [
    "df_tweets[(df_tweets['sentiment']=='negative')].head(5)"
   ]
  },
  {
   "cell_type": "code",
   "execution_count": 15,
   "metadata": {
    "collapsed": false
   },
   "outputs": [],
   "source": [
    "# Save\n",
    "dir_df = os.path.join(os.path.abspath(''),'stg')\n",
    "result_filename = r'df_tweets.pkl'\n",
    "result_fullpath = os.path.join(dir_df, result_filename)\n",
    "df_tweets.to_pickle(result_fullpath)"
   ]
  }
 ],
 "metadata": {
  "kernelspec": {
   "display_name": "Python 3",
   "language": "python",
   "name": "python3"
  },
  "language_info": {
   "codemirror_mode": {
    "name": "ipython",
    "version": 3
   },
   "file_extension": ".py",
   "mimetype": "text/x-python",
   "name": "python",
   "nbconvert_exporter": "python",
   "pygments_lexer": "ipython3",
   "version": "3.6.0"
  }
 },
 "nbformat": 4,
 "nbformat_minor": 2
}
