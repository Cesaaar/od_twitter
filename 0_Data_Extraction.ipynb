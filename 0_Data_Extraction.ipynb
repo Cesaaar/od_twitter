{
 "cells": [
  {
   "cell_type": "code",
   "execution_count": 2,
   "metadata": {
    "collapsed": false
   },
   "outputs": [],
   "source": [
    "import os\n",
    "import tweepy\n",
    "\n",
    "config = {} \n",
    "config_path = os.path.join(os.path.abspath('..')) \n",
    "config_name = r'config.py' \n",
    "config_file = os.path.join(config_path,config_name) \n",
    "exec(open(config_file).read(),config)\n",
    "\n",
    "consumer_key=config['TWITTER_KEY']\n",
    "consumer_secret=config['TWITTER_SECRET']\n",
    "access_token=config['TOKEN']\n",
    "access_token_secret=config['TOKEN_SECRET']"
   ]
  },
  {
   "cell_type": "code",
   "execution_count": 4,
   "metadata": {
    "collapsed": false
   },
   "outputs": [
    {
     "name": "stdout",
     "output_type": "stream",
     "text": [
      "RT @crehage: @realDonaldTrump Anyway Merkel LOVES us since we gave her a UNIQUE chance to talk to one of the GREAT POLITICAL MINDS in the w…\n",
      "RT @RVAwonk: This week, @realDonaldTrump has attacked two of our strongest allies. Still won't criticize Russia. https://t.co/1s7MjQ33Eq\n",
      "Boost the brains behind your #startup - for free! How? https://t.co/fDDMnf5gHo #productivity via @Instant_Offices\n",
      "Take these steps to turn your business into a customer focused one https://t.co/72LG0Ol8ST via @startupsco #UX https://t.co/4HngJggqkD\n",
      "This app makes it fun to pick up litter: https://t.co/E7YRA1cRgZ @jeffkirschner https://t.co/mhhCAAUcXT\n",
      "Google's Timelapse project is absolutely mesmerizing! https://t.co/hS9fW92lLh\n",
      "#Intel’s Optane DC 4800X blurs the line between RAM and solid state storage https://t.co/ftXCYczVm5\n",
      "The best music streaming services https://t.co/Kg1EtF1cep\n",
      "RT @Ronald_vanLoon: How to use machine learning in today’s enterprise environment | #MachineLearning #DataMining #RT https://t.co/CzJbDTYP5…\n",
      "Germany looks to transform an old coal mine into a new renewable energy source https://t.co/8nOQrpAGej\n",
      "RT @davidbrear: @11FSTeam is looking for 2 awesome people: Head of Content Production &amp; Head of Content Distribution. \n",
      "\n",
      "Full Spec - https:/…\n",
      "Storytelling And Bot Making https://t.co/yFhtBhHGPp\n",
      "RT @simongerman600: #Map shows all the countries on the planet using the annoying MMDDYYY format when spelling a date. https://t.co/QxuNv2D…\n",
      "Cloud computing has cut the cost of analytics, say experts | #Analytics #BigData #RT https://t.co/HFBiien2Bo https://t.co/vwg1KAimua\n",
      "Django Admin and Celery – https://t.co/zvcN1nMM2r\n",
      "Drinks on the go: This Airstream trailer houses a full bar, and you can rent it https://t.co/oAYfk6GVFO\n",
      "Boost the brains behind your #startup - for free! How? https://t.co/yIEyZNM4tF #productivity via @Instant_Offices\n",
      "Fellowship all'OpenData Istitute https://t.co/MUEaGJwNGb\n",
      "How science &amp; #entrepreneurship innovate together at @MediconVillage? Learn more: https://t.co/MpYpac83YX #sweden #innovation\n",
      "Alles rund um #Gründung, Feedback und #Förderungen: besuchen Sie das #GründerCenter #Wien &amp; erfahren Sie mehr!… https://t.co/LdxmJxf9M5\n"
     ]
    }
   ],
   "source": [
    "auth = tweepy.OAuthHandler(consumer_key, consumer_secret)\n",
    "auth.set_access_token(access_token, access_token_secret)\n",
    "\n",
    "api = tweepy.API(auth)\n",
    "\n",
    "public_tweets = api.home_timeline()\n",
    "for tweet in public_tweets:\n",
    "    print(tweet.text)"
   ]
  },
  {
   "cell_type": "code",
   "execution_count": null,
   "metadata": {
    "collapsed": true
   },
   "outputs": [],
   "source": []
  }
 ],
 "metadata": {
  "kernelspec": {
   "display_name": "Python 3",
   "language": "python",
   "name": "python3"
  },
  "language_info": {
   "codemirror_mode": {
    "name": "ipython",
    "version": 3
   },
   "file_extension": ".py",
   "mimetype": "text/x-python",
   "name": "python",
   "nbconvert_exporter": "python",
   "pygments_lexer": "ipython3",
   "version": "3.6.0"
  }
 },
 "nbformat": 4,
 "nbformat_minor": 2
}
