{
 "cells": [
  {
   "cell_type": "code",
   "execution_count": 5,
   "metadata": {
    "collapsed": false
   },
   "outputs": [
    {
     "name": "stdout",
     "output_type": "stream",
     "text": [
      "Populating the interactive namespace from numpy and matplotlib\n"
     ]
    }
   ],
   "source": [
    "# Librerie\n",
    "import os\n",
    "import pandas as pd\n",
    "import numpy as np\n",
    "import matplotlib.pyplot as plt\n",
    "plt.style.use('ggplot')\n",
    "get_ipython().magic('pylab inline')"
   ]
  },
  {
   "cell_type": "code",
   "execution_count": 6,
   "metadata": {
    "collapsed": true
   },
   "outputs": [],
   "source": [
    "dir_df = os.path.join(os.path.abspath(''),'stg')\n",
    "dir_out = os.path.join(os.path.abspath(''),'output')"
   ]
  },
  {
   "cell_type": "code",
   "execution_count": 7,
   "metadata": {
    "collapsed": true
   },
   "outputs": [],
   "source": [
    "df_filename = r'df_tweets.pkl'\n",
    "df_fullpath = os.path.join(dir_df, df_filename)\n",
    "df_tweets = pd.read_pickle(df_fullpath)"
   ]
  },
  {
   "cell_type": "markdown",
   "metadata": {},
   "source": [
    "### G1 - Sentiment Distribution"
   ]
  },
  {
   "cell_type": "code",
   "execution_count": 8,
   "metadata": {
    "collapsed": false
   },
   "outputs": [
    {
     "data": {
      "text/html": [
       "<div>\n",
       "<table border=\"1\" class=\"dataframe\">\n",
       "  <thead>\n",
       "    <tr style=\"text-align: right;\">\n",
       "      <th></th>\n",
       "      <th>sentiment</th>\n",
       "      <th>id</th>\n",
       "    </tr>\n",
       "  </thead>\n",
       "  <tbody>\n",
       "    <tr>\n",
       "      <th>0</th>\n",
       "      <td>negative</td>\n",
       "      <td>88</td>\n",
       "    </tr>\n",
       "    <tr>\n",
       "      <th>1</th>\n",
       "      <td>neutral</td>\n",
       "      <td>440</td>\n",
       "    </tr>\n",
       "    <tr>\n",
       "      <th>2</th>\n",
       "      <td>positive</td>\n",
       "      <td>88</td>\n",
       "    </tr>\n",
       "  </tbody>\n",
       "</table>\n",
       "</div>"
      ],
      "text/plain": [
       "  sentiment   id\n",
       "0  negative   88\n",
       "1   neutral  440\n",
       "2  positive   88"
      ]
     },
     "execution_count": 8,
     "metadata": {},
     "output_type": "execute_result"
    }
   ],
   "source": [
    "df_g1 = df_tweets[['sentiment','id']].groupby(['sentiment'],as_index=False).count()\n",
    "df_g1"
   ]
  },
  {
   "cell_type": "code",
   "execution_count": 9,
   "metadata": {
    "collapsed": false
   },
   "outputs": [
    {
     "data": {
      "image/png": "[encoded data removed]",
      "text/plain": [
       "<matplotlib.figure.Figure at 0x112697128>"
      ]
     },
     "metadata": {},
     "output_type": "display_data"
    }
   ],
   "source": [
    "# Report\n",
    "tp = df_g1.plot(\n",
    "        x=df_g1['sentiment'],\n",
    "        kind='bar',\n",
    "        legend = False)\n",
    "for p in tp.patches:\n",
    "    tp.annotate(str(p.get_height()), \n",
    "                (p.get_x() * 1.005, p.get_height() * 1.005), \n",
    "                ha='center', va='center', xytext=(30, 5), textcoords='offset points')\n",
    "    tp.plot()\n",
    "\n",
    "fig_prj = tp.get_figure()\n",
    "fig_prj.tight_layout()\n",
    "fig_prj.savefig(os.path.join(dir_out,'sentiment_distr.png'), format='png', dpi=300)"
   ]
  },
  {
   "cell_type": "markdown",
   "metadata": {},
   "source": [
    "### G2 - Instant of Sentiment"
   ]
  },
  {
   "cell_type": "code",
   "execution_count": 10,
   "metadata": {
    "collapsed": false
   },
   "outputs": [
    {
     "data": {
      "text/html": [
       "<div>\n",
       "<table border=\"1\" class=\"dataframe\">\n",
       "  <thead>\n",
       "    <tr style=\"text-align: right;\">\n",
       "      <th></th>\n",
       "      <th>coord</th>\n",
       "      <th>created_at</th>\n",
       "      <th>id</th>\n",
       "      <th>location</th>\n",
       "      <th>place</th>\n",
       "      <th>text</th>\n",
       "      <th>timezone</th>\n",
       "      <th>sentiment</th>\n",
       "    </tr>\n",
       "  </thead>\n",
       "  <tbody>\n",
       "    <tr>\n",
       "      <th>0</th>\n",
       "      <td>None</td>\n",
       "      <td>Sun Mar 19 17:26:30 +0000 2017</td>\n",
       "      <td>843514025287794689</td>\n",
       "      <td>New Jersey</td>\n",
       "      <td>None</td>\n",
       "      <td>#Career #opportunity for #Python Developer (17...</td>\n",
       "      <td>Pacific Time (US &amp; Canada)</td>\n",
       "      <td>neutral</td>\n",
       "    </tr>\n",
       "    <tr>\n",
       "      <th>1</th>\n",
       "      <td>None</td>\n",
       "      <td>Sun Mar 19 17:26:32 +0000 2017</td>\n",
       "      <td>843514034590769152</td>\n",
       "      <td>London, England</td>\n",
       "      <td>None</td>\n",
       "      <td>RT @raamana_: So @MathWorks itself put togethe...</td>\n",
       "      <td>None</td>\n",
       "      <td>neutral</td>\n",
       "    </tr>\n",
       "  </tbody>\n",
       "</table>\n",
       "</div>"
      ],
      "text/plain": [
       "  coord                      created_at                  id         location  \\\n",
       "0  None  Sun Mar 19 17:26:30 +0000 2017  843514025287794689       New Jersey   \n",
       "1  None  Sun Mar 19 17:26:32 +0000 2017  843514034590769152  London, England   \n",
       "\n",
       "  place                                               text  \\\n",
       "0  None  #Career #opportunity for #Python Developer (17...   \n",
       "1  None  RT @raamana_: So @MathWorks itself put togethe...   \n",
       "\n",
       "                     timezone sentiment  \n",
       "0  Pacific Time (US & Canada)   neutral  \n",
       "1                        None   neutral  "
      ]
     },
     "execution_count": 10,
     "metadata": {},
     "output_type": "execute_result"
    }
   ],
   "source": [
    "df_tweets.head(2)"
   ]
  },
  {
   "cell_type": "markdown",
   "metadata": {},
   "source": [
    "### G3 - Position of Sentiment"
   ]
  }
 ],
 "metadata": {
  "kernelspec": {
   "display_name": "Python 3",
   "language": "python",
   "name": "python3"
  },
  "language_info": {
   "codemirror_mode": {
    "name": "ipython",
    "version": 3
   },
   "file_extension": ".py",
   "mimetype": "text/x-python",
   "name": "python",
   "nbconvert_exporter": "python",
   "pygments_lexer": "ipython3",
   "version": "3.6.0"
  }
 },
 "nbformat": 4,
 "nbformat_minor": 2
}
